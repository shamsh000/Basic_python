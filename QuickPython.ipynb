{
 "cells": [
  {
   "cell_type": "markdown",
   "metadata": {},
   "source": [
    "Quick walk through of Python"
   ]
  },
  {
   "cell_type": "markdown",
   "metadata": {},
   "source": [
    "1.Assignment"
   ]
  },
  {
   "cell_type": "code",
   "execution_count": 1,
   "metadata": {},
   "outputs": [
    {
     "name": "stdout",
     "output_type": "stream",
     "text": [
      "h\n",
      "11\n",
      "hello world\n"
     ]
    }
   ],
   "source": [
    "#Strings\n",
    "data = \"hello world\"\n",
    "print(data[0])\n",
    "print(len(data))\n",
    "print(data)"
   ]
  },
  {
   "cell_type": "code",
   "execution_count": 2,
   "metadata": {},
   "outputs": [
    {
     "name": "stdout",
     "output_type": "stream",
     "text": [
      "123.3\n",
      "10\n"
     ]
    }
   ],
   "source": [
    "#Numbers\n",
    "value=123.3\n",
    "print(value)\n",
    "value=10\n",
    "print(value)"
   ]
  },
  {
   "cell_type": "code",
   "execution_count": 3,
   "metadata": {},
   "outputs": [
    {
     "name": "stdout",
     "output_type": "stream",
     "text": [
      "True False\n"
     ]
    }
   ],
   "source": [
    "#Boolean\n",
    "a=True\n",
    "b=False\n",
    "print(a,b)"
   ]
  },
  {
   "cell_type": "code",
   "execution_count": 4,
   "metadata": {},
   "outputs": [
    {
     "name": "stdout",
     "output_type": "stream",
     "text": [
      "3 6 8\n"
     ]
    }
   ],
   "source": [
    "#Multiple Assignments\n",
    "a,b,c =3,6,8\n",
    "print(a,b,c)"
   ]
  },
  {
   "cell_type": "markdown",
   "metadata": {},
   "source": [
    "2.Flow Control"
   ]
  },
  {
   "cell_type": "code",
   "execution_count": 5,
   "metadata": {},
   "outputs": [
    {
     "name": "stdout",
     "output_type": "stream",
     "text": [
      "That is good score\n"
     ]
    }
   ],
   "source": [
    "#If-then-Else conditional\n",
    "value=99\n",
    "if value==99:\n",
    "    print ('That is good score')\n",
    "elif value > 150:\n",
    "    print('Excellent')\n",
    "else:\n",
    "    print('that is average')"
   ]
  },
  {
   "cell_type": "code",
   "execution_count": 6,
   "metadata": {},
   "outputs": [
    {
     "name": "stdout",
     "output_type": "stream",
     "text": [
      "0\n",
      "1\n",
      "2\n",
      "3\n",
      "4\n"
     ]
    }
   ],
   "source": [
    "#For Loop\n",
    "for i in range(5):\n",
    "    print(i)"
   ]
  },
  {
   "cell_type": "code",
   "execution_count": 7,
   "metadata": {},
   "outputs": [
    {
     "name": "stdout",
     "output_type": "stream",
     "text": [
      "0\n",
      "1\n",
      "2\n",
      "3\n",
      "4\n"
     ]
    }
   ],
   "source": [
    "#While Loop\n",
    "i=0\n",
    "while i < 5:\n",
    "    print(i)\n",
    "    i+=1"
   ]
  },
  {
   "cell_type": "markdown",
   "metadata": {},
   "source": [
    "3. Data Structures : Three data strcutures that are mostly used.They are tuples,lists and dictionaries"
   ]
  },
  {
   "cell_type": "code",
   "execution_count": 8,
   "metadata": {},
   "outputs": [
    {
     "name": "stdout",
     "output_type": "stream",
     "text": [
      "(2, 4, 7)\n"
     ]
    }
   ],
   "source": [
    "#Tuple : These are read-only collections of items\n",
    "a = (2,4,7)\n",
    "print(a)"
   ]
  },
  {
   "cell_type": "code",
   "execution_count": 9,
   "metadata": {},
   "outputs": [
    {
     "name": "stdout",
     "output_type": "stream",
     "text": [
      "zeroth value : 3\n",
      "Length of the List : 3\n",
      "3\n",
      "6\n",
      "1\n",
      "10\n"
     ]
    }
   ],
   "source": [
    "#Lists : List use square bracker notation and can be indexed using array notation\n",
    "myList= [3,6,1]\n",
    "print(\"zeroth value : %d\"  %myList[0])\n",
    "print(\"Length of the List : %d\" %len(myList) )\n",
    "myList.append(10)\n",
    "for value in myList:\n",
    "    print(value)"
   ]
  },
  {
   "cell_type": "code",
   "execution_count": 10,
   "metadata": {},
   "outputs": [
    {
     "name": "stdout",
     "output_type": "stream",
     "text": [
      "X value: 10\n",
      "X value: 100\n",
      "All Keys: dict_keys(['x', 'y', 'z'])\n",
      "All values: dict_values([100, 20, 30])\n",
      "100\n",
      "20\n",
      "30\n"
     ]
    }
   ],
   "source": [
    "#Dictionary : are name-value or key-value pairs.we use curly bracket & colon notation while defining a dictionary\n",
    "mydictionary = {'x':10,'y':20,'z':30}\n",
    "print(\"X value: %d\" %mydictionary['x'])\n",
    "mydictionary['x']=100\n",
    "print(\"X value: %d\" %mydictionary['x'])\n",
    "print(\"All Keys: %s\" %mydictionary.keys())\n",
    "print(\"All values: %s\" %mydictionary.values())\n",
    "for keys in mydictionary.keys():\n",
    "    print(mydictionary[keys])"
   ]
  },
  {
   "cell_type": "code",
   "execution_count": null,
   "metadata": {},
   "outputs": [],
   "source": []
  }
 ],
 "metadata": {
  "kernelspec": {
   "display_name": "Python 3",
   "language": "python",
   "name": "python3"
  },
  "language_info": {
   "codemirror_mode": {
    "name": "ipython",
    "version": 3
   },
   "file_extension": ".py",
   "mimetype": "text/x-python",
   "name": "python",
   "nbconvert_exporter": "python",
   "pygments_lexer": "ipython3",
   "version": "3.6.6"
  }
 },
 "nbformat": 4,
 "nbformat_minor": 2
}
